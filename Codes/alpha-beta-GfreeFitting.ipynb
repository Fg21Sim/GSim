{
 "cells": [
  {
   "cell_type": "markdown",
   "id": "f1b80e8f-d6fc-43b6-a5c8-8bd92c505411",
   "metadata": {
    "jp-MarkdownHeadingCollapsed": true,
    "tags": []
   },
   "source": [
    "## Import MCMC model"
   ]
  },
  {
   "cell_type": "code",
   "execution_count": 1,
   "id": "be707a85-b13d-4f37-967c-5f92acc7d406",
   "metadata": {
    "tags": []
   },
   "outputs": [],
   "source": [
    "__version__ = \"0.1\"\n",
    "__date__    = \"2022-08-03\"\n",
    "\n",
    "import numpy as np\n",
    "import scipy.stats as st\n",
    "from sklearn import metrics\n",
    "\n",
    "import numpy as np\n",
    "import scipy.stats as st\n",
    "from sklearn import metrics\n",
    "\n",
    "class FitfuncDev:\n",
    "    r\"\"\"\n",
    "        Offers a selection of fitting function for GalacticSim\n",
    "    \"\"\"\n",
    "    global g_gssmap, g_orimap, g_cl, g_l\n",
    "    \n",
    "    def __init__( self, tol=0.0001 , multi_=False, size=1000 ):\n",
    "        self.multi_ = multi_        # Using multiple maps\n",
    "        self.tol = tol              # Tolerance of accuracy\n",
    "        self.size = size            # Size of the input image\n",
    "    \n",
    "    def diff( self, x ):\n",
    "        r\"\"\"\n",
    "        *** Print the stat difference ***\n",
    "        \"\"\"\n",
    "        if self.multi_:\n",
    "            for i in g_gssmap:\n",
    "                ssmap = x[0] * g_gssmap[i] * g_orimap[i] ** x[1]\n",
    "                newmap = ssmap + g_orimap[i]\n",
    "                orimean = np.mean( g_orimap[i] )\n",
    "                orivar = np.var( g_orimap[i] )\n",
    "                oriskew = st.skew( g_orimap[i] )\n",
    "                orikurt = st.kurtosis( g_orimap[i] )\n",
    "                \n",
    "                print( 'Map patch: [%s]' % i )\n",
    "                print( '========Mean========' )\n",
    "                print( 'ssmap:', np.mean(ssmap) )\n",
    "                print( 'newmap', np.mean(newmap) )\n",
    "                print( 'orimap', orimean )\n",
    "                print( 'Mean_diff', np.mean(newmap)-orimean )\n",
    "                print( 'Mean_Tol', self.tol, orimean*self.tol )\n",
    "\n",
    "                print( '========Var========' )\n",
    "                print( 'ssmap:', np.var(ssmap) )\n",
    "                print( 'newmap', np.var(newmap) )\n",
    "                print( 'orimap', orivar )\n",
    "                print( 'Var_diff', np.var(newmap)-orivar ) \n",
    "                print( 'Var_Tol', self.tol, orivar*self.tol )\n",
    "\n",
    "                print( '========Skew========' )\n",
    "                print( 'ssmap:', st.skew(ssmap) )\n",
    "                print( 'newmap', st.skew(newmap) )\n",
    "                print( 'orimap', oriskew )\n",
    "                print( 'Skew_diff', st.skew(newmap)-oriskew )\n",
    "                print( 'Skew_Tol', self.tol, oriskew*self.tol )\n",
    "\n",
    "                print( '========Kurt========' )\n",
    "                print( 'ssmap:', st.kurtosis(ssmap) )\n",
    "                print( 'newmap', st.kurtosis(newmap) )\n",
    "                print( 'orimap', orikurt )\n",
    "                print( 'Kurt_diff', st.kurtosis(newmap)-orikurt )\n",
    "                print( 'Kurt_Tol', self.tol, oriskew*self.tol )\n",
    "                plt.hist( orimap, alpha=0.3, color='c', edgecolor='k' )\n",
    "                plt.hist( newmap, alpha=0.3 )\n",
    "            \n",
    "        else:\n",
    "            ssmap = x[0] * g_gssmap * g_orimap ** x[1]\n",
    "            newmap = ssmap + g_orimap\n",
    "            orimean = np.mean( g_orimap )\n",
    "            orivar = np.var( g_orimap )\n",
    "            oriskew = st.skew( g_orimap )\n",
    "            orikurt = st.kurtosis( g_orimap )\n",
    "            \n",
    "            print( '========Mean========' )\n",
    "            print( 'ssmap:', np.mean(ssmap) )\n",
    "            print( 'newmap', np.mean(newmap) )\n",
    "            print( 'orimap', orimean)\n",
    "            print( 'Mean_diff', np.mean(newmap)-orimean )\n",
    "            print( 'Mean_Tol', self.tol, orimean*self.tol )\n",
    "            \n",
    "            print( '========Var========' )\n",
    "            print( 'ssmap:', np.var(ssmap) )\n",
    "            print( 'newmap', np.var(newmap) )\n",
    "            print( 'orimap', orivar )\n",
    "            print( 'Var_diff', np.var(newmap)-orivar ) \n",
    "            print( 'Var_Tol', self.tol, orivar*self.tol )\n",
    "            \n",
    "            print( '========Skew========' )\n",
    "            print( 'ssmap:', st.skew(ssmap) )\n",
    "            print( 'newmap', st.skew(newmap) )\n",
    "            print( 'orimap', oriskew )\n",
    "            print( 'Skew_diff', st.skew(newmap)-oriskew )\n",
    "            print( 'Skew_Tol', self.tol, oriskew*self.tol )\n",
    "            \n",
    "            print( '========Kurt========' )\n",
    "            print( 'ssmap:', st.kurtosis(ssmap) )\n",
    "            print( 'newmap', st.kurtosis(newmap) )\n",
    "            print( 'orimap', orikurt )\n",
    "            print( 'Kurt_diff', st.kurtosis(newmap)-orikurt )\n",
    "            print( 'Kurt_Tol', self.tol, oriskew*self.tol )\n",
    "            plt.hist( orimap, alpha=0.3, color='c', edgecolor='k' )\n",
    "            plt.hist( newmap, alpha=0.3 )\n",
    "\n",
    "    # ================= Cl Model =================\n",
    "    \n",
    "    def cl_likelihood( self, x ):\n",
    "        r\"\"\"\n",
    "        *** Linear relation of the Angular power spectrum in the log-log space ***\n",
    "        \"\"\"\n",
    "        model = x[0] * np.log10( g_l ) + x[1]\n",
    "        return -0.5 * np.sum( ( np.log10( g_cl ) - model ) ** 2 )\n",
    "    \n",
    "\n",
    "    def plot_cl( self, x, lmin, lmax ):\n",
    "        r\"\"\"\n",
    "        *** Plot the Cl-l function function in the log-log space ***\n",
    "        \"\"\"\n",
    "        lower = np.log10( lmin ) - 0.2\n",
    "        upper = np.log10( lmax ) + 0.2\n",
    "        xfid = np.linspace( lower, upper )\n",
    "        plt.plot( np.log10( g_l ), np.log10( g_cl ), c='coral' )\n",
    "        plt.plot( xfid, x[0]*xfid + x[1], c='c', linestyle=':' )\n",
    "        plt.xlabel( 'Log(l)' )\n",
    "        plt.ylabel( 'Log(Cl)' )\n",
    "        plt.show()\n",
    "    \n",
    "    \n",
    "    def fitcl( self, lmin, lmax ):\n",
    "        r\"\"\"\n",
    "        *** Linear regression of Cl-l function in the log-log space w/ plot overview ***\n",
    "        \"\"\"\n",
    "        lower = np.log10( lmin ) - 0.2\n",
    "        upper = np.log10( lmax ) + 0.2\n",
    "        xfid = np.linspace( lower, upper )\n",
    "        slope, intercept, r_value, p_value, std_err = linregress(np.log10( g_l ), np.log10( g_cl ))\n",
    "        plt.plot( np.log10( g_l ), np.log10( g_cl ), c='coral' )\n",
    "        plt.plot( xfid, xfid*slope+intercept, c='darkolivegreen', linestyle='--' )\n",
    "        plt.xlabel( 'Log(l)' )\n",
    "        plt.ylabel( 'Log(Cl)' )\n",
    "        plt.show()\n",
    "        return slope, intercept, r_value, p_value, std_err\n",
    "    \n",
    "    # ================= Model =================\n",
    "    \n",
    "    def full( self, x ):\n",
    "        r\"\"\"\n",
    "        *** Using the full stat difference [ mean, variance, skewness, kurtosis ] ***\n",
    "        \"\"\"\n",
    "        if self.multi_:\n",
    "            stat = []\n",
    "            for i in g_gssmap:\n",
    "                newmap = x[0] * g_gssmap[i] * g_orimap[i] ** x[1] + g_orimap[i]\n",
    "                s = ( np.mean( newmap ) - np.mean( g_orimap[i] ) ) **2 + \\\n",
    "                     np.sqrt( ( np.var( newmap ) - np.var( g_orimap[i] ) ) **2 ) + \\\n",
    "                     ( st.skew( newmap ) - st.skew( g_orimap[i] ) ) **2 + \\\n",
    "                     ( st.kurtosis( newmap ) - st.kurtosis( g_orimap[i] ) )**2\n",
    "                stat.append( s )\n",
    "            stat = sum( stat )\n",
    "        else:\n",
    "            newmap = x[0] * g_gssmap * g_orimap ** x[1] + g_orimap\n",
    "            stat = ( np.mean( newmap ) - np.mean( g_orimap ) ) **2 + \\\n",
    "                    np.sqrt( ( np.var( newmap ) - np.var( g_orimap ) ) **2 ) + \\\n",
    "                    ( st.skew( newmap ) - st.skew( g_orimap ) ) **2  + \\\n",
    "                    (st.kurtosis( newmap ) - st.kurtosis( g_orimap ))**2\n",
    "        return - 0.25 * stat\n",
    "    \n",
    "    \n",
    "    def single( self, x, type_='m' ):\n",
    "        r\"\"\"\n",
    "        *** Using the one of the stat difference [ mean, variance, skewness, kurtosis ] ***\n",
    "        type_ = 'mean', 'var', 'skew', 'kurt' or 'm', 'v', 's', 'k'\n",
    "        \"\"\"\n",
    "        if type_ in { 'mean', 'var', 'skew', 'kurt', 'm', 'v', 's', 'k' }:\n",
    "            if type_ in { 'mean', 'm' }:\n",
    "                if self.multi_:\n",
    "                    stat = []\n",
    "                    for i in g_gssmap:\n",
    "                        newmap = x[0] * g_gssmap[i] * g_orimap[i] ** x[1] + g_orimap[i]\n",
    "                        s = ( np.mean( newmap ) - np.mean( g_orimap[i] ) ) **2\n",
    "                        stat.append( s )\n",
    "                    stat = sum( stat )\n",
    "                else:\n",
    "                    newmap = x[0] * g_gssmap * g_orimap ** x[1] + g_orimap\n",
    "                    stat = ( np.mean( newmap ) - np.mean( g_orimap ) ) **2\n",
    "            elif type_ in { 'var', 'v' }:\n",
    "                if self.multi_:\n",
    "                    stat = []\n",
    "                    for i in g_gssmap:\n",
    "                        newmap = x[0] * g_gssmap[i] * g_orimap[i] ** x[1] + g_orimap[i]\n",
    "                        s =  ( np.var( newmap ) - np.var( g_orimap[i] ) ) **2 \n",
    "                        stat.append( s )\n",
    "                    stat = sum( stat )\n",
    "                else:\n",
    "                    newmap = x[0] * g_gssmap * g_orimap ** x[1] + g_orimap\n",
    "                    stat = ( np.var( newmap ) - np.var( g_orimap ) ) **2\n",
    "            elif type_ in { 'skew', 's' }:\n",
    "                if self.multi_:\n",
    "                    stat = []\n",
    "                    for i in g_gssmap:\n",
    "                        newmap = x[0] * g_gssmap[i] * g_orimap[i] ** x[1] + g_orimap[i]\n",
    "                        s = ( st.skew( newmap ) - st.skew( g_orimap[i] ) ) **2\n",
    "                        stat.append( s )\n",
    "                    stat = sum( stat )\n",
    "                else:\n",
    "                    newmap = x[0] * g_gssmap * g_orimap ** x[1] + g_orimap\n",
    "                    stat = ( st.skew( newmap ) - st.skew( g_orimap ) ) **2\n",
    "            elif type_ in { 'kurt', 'k' }:\n",
    "                if self.multi_:\n",
    "                    stat = []\n",
    "                    for i in g_gssmap:\n",
    "                        newmap = x[0] * g_gssmap[i] * g_orimap[i] ** x[1] + g_orimap[i]\n",
    "                        s = ( st.kurtosis( newmap ) - st.kurtosis( g_orimap[i] ) )**2\n",
    "                        stat.append( s )\n",
    "                    stat = sum( stat )\n",
    "                else:\n",
    "                    newmap = x[0] * g_gssmap * g_orimap ** x[1] + g_orimap\n",
    "                    stat = (st.kurtosis( newmap ) - st.kurtosis( g_orimap ))**2\n",
    "            return - stat\n",
    "    \n",
    "    \n",
    "    def com_full_tost( self, x ):\n",
    "        r\"\"\"\n",
    "        A combined model using full stat difference [ mean, variance, skewness, kurtosis ], MMD, & TOST;\n",
    "        TOST is using for set the tolerance;\n",
    "        \"\"\"\n",
    "        if self.multi_:\n",
    "            stat = []\n",
    "            \n",
    "            for i in g_gssmap:\n",
    "                ssmap = x[0] * g_orimap[i] * g_orimap[i] ** x[1]\n",
    "                newmap = ssmap + g_orimap[i]\n",
    "                # The TOST Test\n",
    "                mean = np.mean(g_orimap[i])\n",
    "                low = -mean * self.tol\n",
    "                upp = mean * self.tol\n",
    "                t1, pv1 = st.ttest_1samp( ssmap, low, alternative='greater' )\n",
    "                t2, pv2 = st.ttest_1samp( ssmap, upp, alternative='less' )\n",
    "                p = max(pv1/2, pv2/2)\n",
    "                tost = 1 - p\n",
    "\n",
    "                if p > 0.005:\n",
    "                    diff_p = 1000000000\n",
    "                else:\n",
    "                    diff_p = 0\n",
    "\n",
    "                # Full stats\n",
    "                diff_mean = ( np.mean( newmap ) - np.mean( g_orimap[i] ) ) ** 2\n",
    "                diff_var = ( np.var( newmap ) - np.var( g_orimap[i] ) ) ** 2\n",
    "                diff_skew = ( st.skew( newmap ) - st.skew( g_orimap[i] ) ) ** 2\n",
    "                diff_kurt = (st.kurtosis( newmap ) - st.kurtosis( g_orimap[i] ) ) ** 2\n",
    "            \n",
    "                s = diff_mean + diff_var + diff_skew + diff_kurt + diff_p\n",
    "                stat.append( s )\n",
    "                \n",
    "            stat = sum( stat )\n",
    "        else:\n",
    "            ssmap = x[0] * g_gssmap * g_orimap ** x[1]\n",
    "            newmap = ssmap + g_orimap\n",
    "            # The TOST Test\n",
    "            mean = np.mean(g_orimap)\n",
    "            low = -mean * self.tol\n",
    "            upp = mean * self.tol\n",
    "            t1, pv1 = st.ttest_1samp( ssmap, low, alternative='greater' )\n",
    "            t2, pv2 = st.ttest_1samp( ssmap, upp, alternative='less' )\n",
    "            p = max(pv1/2, pv2/2)\n",
    "            tost = 1 - p\n",
    "            \n",
    "            if p > 0.005:\n",
    "                diff_p = 1000000000\n",
    "            else:\n",
    "                diff_p = 0\n",
    "            \n",
    "            # Full stats\n",
    "            diff_mean = ( np.mean( newmap ) - np.mean( g_orimap ) ) ** 2\n",
    "            diff_var = ( np.var( newmap ) - np.var( g_orimap ) ) ** 2\n",
    "            diff_skew = ( st.skew( newmap ) - st.skew( g_orimap ) ) ** 2\n",
    "            diff_kurt = (st.kurtosis( newmap ) - st.kurtosis( g_orimap ) ) ** 2\n",
    "            \n",
    "            stat = diff_mean + diff_var + diff_skew + diff_kurt + diff_p\n",
    "            \n",
    "        return - 0.25 * stat\n",
    "    \n",
    "    \n",
    "    def combine( self, x ):\n",
    "        r\"\"\"\n",
    "        A combined model using full stat difference [ mean, variance, skewness, kurtosis ], MMD, & TOST;\n",
    "        TOST is using for set the tolerance;\n",
    "        \"\"\"\n",
    "        if self.multi_:\n",
    "            stat = []\n",
    "            \n",
    "            for i in g_gssmap:\n",
    "                ssmap = x[0] * g_gssmap[i] * g_orimap[i] ** x[1]\n",
    "                newmap = ssmap + g_orimap[i]\n",
    "                # The TOST Test\n",
    "                mean = np.mean(g_orimap[i])\n",
    "                low = -mean * self.tol\n",
    "                upp = mean * self.tol\n",
    "                t1, pv1 = st.ttest_1samp( ssmap, low, alternative='greater' )\n",
    "                t2, pv2 = st.ttest_1samp( ssmap, upp, alternative='less' )\n",
    "                p = max(pv1/2, pv2/2)\n",
    "                tost = 1 - p\n",
    "\n",
    "                if p > 0.005:\n",
    "                    diff_p = 1000000000\n",
    "                else:\n",
    "                    diff_p = 0\n",
    "\n",
    "                # MMD\n",
    "                ori_vector = g_orimap[i].copy()\n",
    "                ori_vector = ori_vector.reshape( self.size, self.size )\n",
    "                new_vector = newmap.copy()\n",
    "                new_vector = new_vector.reshape( self.size, self.size )\n",
    "                mml = self.mmd_linear( new_vector, ori_vector )\n",
    "\n",
    "                # Full stats\n",
    "                diff_mean = ( np.mean( newmap ) - np.mean( g_orimap[i] ) ) ** 2\n",
    "                diff_var = np.sqrt( ( np.var( newmap ) - np.var( g_orimap[i] ) ) ** 2 )\n",
    "                diff_skew = np.cbrt( ( st.skew( newmap ) - st.skew( g_orimap[i] ) ) ** 2 )\n",
    "                diff_kurt = np.sqrt( np.sqrt( (st.kurtosis( newmap ) - st.kurtosis( g_orimap[i] ) ) ** 2 ) )\n",
    "            \n",
    "                s = ( diff_mean + mml ) / 2 + diff_var + diff_skew + diff_kurt + diff_p\n",
    "                stat.append( s )\n",
    "                \n",
    "            stat = sum( stat )\n",
    "        else:\n",
    "            ssmap = x[0] * g_gssmap * g_orimap ** x[1]\n",
    "            newmap = ssmap + g_orimap\n",
    "            # The TOST Test\n",
    "            mean = np.mean(g_orimap)\n",
    "            low = -mean * self.tol\n",
    "            upp = mean * self.tol\n",
    "            t1, pv1 = st.ttest_1samp( ssmap, low, alternative='greater' )\n",
    "            t2, pv2 = st.ttest_1samp( ssmap, upp, alternative='less' )\n",
    "            p = max(pv1/2, pv2/2)\n",
    "            tost = 1 - p\n",
    "            \n",
    "            if p > 0.005:\n",
    "                diff_p = 1000000000\n",
    "            else:\n",
    "                diff_p = 0\n",
    "            \n",
    "            # MMD\n",
    "            ori_vector = g_orimap.copy()\n",
    "            ori_vector = ori_vector.reshape( self.size, self.size )\n",
    "            new_vector = newmap.copy()\n",
    "            new_vector = new_vector.reshape( self.size, self.size )\n",
    "            mml = self.mmd_linear( new_vector, ori_vector )\n",
    "            \n",
    "            # Full stats\n",
    "            diff_mean = ( np.mean( newmap ) - np.mean( g_orimap ) ) ** 2\n",
    "            diff_var = np.sqrt( ( np.var( newmap ) - np.var( g_orimap ) ) ** 2 )\n",
    "            diff_skew = np.cbrt( ( st.skew( newmap ) - st.skew( g_orimap ) ) ** 2 )\n",
    "            diff_kurt = np.sqrt( np.sqrt( ( st.kurtosis( newmap ) - st.kurtosis( g_orimap ) ) ** 2 ) )\n",
    "            \n",
    "            stat = ( diff_mean + mml ) / 2 + diff_var + diff_skew + diff_kurt + diff_p\n",
    "            \n",
    "        return - 0.25 * stat\n",
    "    \n",
    "    \n",
    "    # ================= MMD =================\n",
    "    \n",
    "    def MMD( self, x, shape=500 ):\n",
    "        r\"\"\"\n",
    "        *** Calculate the maximum mean discrepancy ***\n",
    "        \"\"\"\n",
    "        ssmap = x[0] * g_gssmap * g_orimap ** x[1]\n",
    "        newmap = ssmap + g_orimap\n",
    "        ori_vector = g_orimap.copy()\n",
    "        ori_vector = ori_vector.reshape( shape[0],shape[1] )\n",
    "        new_vector = newmap.copy()\n",
    "        new_vector = new_vector.reshape( shape[0],shape[1] )\n",
    "\n",
    "        mml = self.mmd_linear( new_vector, ori_vector )\n",
    "        mmg = self.mmd_rbf( new_vector, ori_vector )\n",
    "\n",
    "        return mml, mmg\n",
    "    \n",
    "    \n",
    "    def mmd_linear( self, X, Y ):\n",
    "        r\"\"\"MMD using linear kernel (i.e., k(x,y) = <x,y>)\n",
    "        Note that this is not the original linear MMD, only the reformulated and faster version.\n",
    "        The original version is:\n",
    "            def mmd_linear(X, Y):\n",
    "                XX = np.dot(X, X.T)\n",
    "                YY = np.dot(Y, Y.T)\n",
    "                XY = np.dot(X, Y.T)\n",
    "                return XX.mean() + YY.mean() - 2 * XY.mean()\n",
    "        Arguments:\n",
    "            X {[n_sample1, dim]} -- [X matrix]\n",
    "            Y {[n_sample2, dim]} -- [Y matrix]\n",
    "        Returns:\n",
    "            [scalar] -- [MMD value]\n",
    "        \"\"\"\n",
    "        delta = X.mean(0) - Y.mean(0)\n",
    "        return delta.dot(delta.T)\n",
    "\n",
    "\n",
    "    def mmd_rbf( self, X, Y, gamma=1.0):\n",
    "        r\"\"\"MMD using rbf (gaussian) kernel (i.e., k(x,y) = exp(-gamma * ||x-y||^2 / 2))\n",
    "        Arguments:\n",
    "            X {[n_sample1, dim]} -- [X matrix]\n",
    "            Y {[n_sample2, dim]} -- [Y matrix]\n",
    "        Keyword Arguments:\n",
    "            gamma {float} -- [kernel parameter] (default: {1.0})\n",
    "        Returns:\n",
    "            [scalar] -- [MMD value]\n",
    "        \"\"\"\n",
    "        XX = metrics.pairwise.rbf_kernel(X, X, gamma)\n",
    "        YY = metrics.pairwise.rbf_kernel(Y, Y, gamma)\n",
    "        XY = metrics.pairwise.rbf_kernel(X, Y, gamma)\n",
    "        return XX.mean() + YY.mean() - 2 * XY.mean()\n",
    "\n",
    "\n",
    "    def mmd_poly( self, X, Y, degree=2, gamma=1, coef0=0 ):\n",
    "        r\"\"\"MMD using polynomial kernel (i.e., k(x,y) = (gamma <X, Y> + coef0)^degree)\n",
    "        Arguments:\n",
    "            X {[n_sample1, dim]} -- [X matrix]\n",
    "            Y {[n_sample2, dim]} -- [Y matrix]\n",
    "        Keyword Arguments:\n",
    "            degree {int} -- [degree] (default: {2})\n",
    "            gamma {int} -- [gamma] (default: {1})\n",
    "            coef0 {int} -- [constant item] (default: {0})\n",
    "        Returns:\n",
    "            [scalar] -- [MMD value]\n",
    "        \"\"\"\n",
    "        XX = metrics.pairwise.polynomial_kernel(X, X, degree, gamma, coef0)\n",
    "        YY = metrics.pairwise.polynomial_kernel(Y, Y, degree, gamma, coef0)\n",
    "        XY = metrics.pairwise.polynomial_kernel(X, Y, degree, gamma, coef0)\n",
    "        return XX.mean() + YY.mean() - 2 * XY.mean()\n",
    "    \n",
    "    # ================= Stat Tests =================\n",
    "    \n",
    "    def Ttest( self, x ):\n",
    "        r\"\"\"\n",
    "        a.k.a Wilcoxon signed-rank Test >> Mean Test for ND\n",
    "        Uses the non-param wilcoxon test from Scipy\n",
    "        \"\"\"\n",
    "        if self.multi_:\n",
    "            tt = []\n",
    "            for i in g_gssmap:\n",
    "                newmap = x[0] * g_gssmap[i] * g_orimap[i] ** x[1] + g_orimap[i]\n",
    "                t = st.wilcoxon(newmap, g_orimap[i], mode = 'approx')\n",
    "                tt.append(t)\n",
    "        else:\n",
    "            newmap = x[0] * g_gssmap * g_orimap ** x[1] + g_orimap\n",
    "            tt = st.wilcoxon(newmap, g_orimap, mode = 'approx')\n",
    "        return tt\n",
    "    \n",
    "    \n",
    "    def TOSTest( self, x ):\n",
    "        r\"\"\"\n",
    "        *** Equivalence test, test if two mean difference are within the tolerance range! ***\n",
    "        \"\"\"\n",
    "        if self.multi_:\n",
    "            tost = []\n",
    "            for i in g_gssmap:\n",
    "                ssmap = x[0] * g_gssmap * g_orimap ** x[1]\n",
    "                mean = np.mean(g_orimap)\n",
    "\n",
    "                # The TOST Test\n",
    "                low = -mean * self.tol\n",
    "                upp = mean * self.tol\n",
    "                t1, pv1 = st.ttest_1samp( ssmap, low, alternative='greater' )\n",
    "                t2, pv2 = st.ttest_1samp( ssmap, upp, alternative='less' )\n",
    "                p = max(pv1/2, pv2/2)\n",
    "                t = 1 - p\n",
    "            tost.append(t)\n",
    "        else:\n",
    "            ssmap = x[0] * g_gssmap * g_orimap ** x[1]\n",
    "            mean = np.mean(g_orimap)\n",
    "\n",
    "            # The TOST Test\n",
    "            low = -mean * self.tol\n",
    "            upp = mean * self.tol\n",
    "            t1, pv1 = st.ttest_1samp( ssmap, low, alternative='greater' )\n",
    "            t2, pv2 = st.ttest_1samp( ssmap, upp, alternative='less' )\n",
    "            p = max(pv1/2, pv2/2)\n",
    "            tost = 1 - p\n",
    "        return tost\n",
    "    \n",
    "    \n",
    "    def Ftest( self, x ):\n",
    "        r\"\"\"\n",
    "        a.k.a Variance Test\n",
    "        Uses the non-param ansari test from Scipy\n",
    "        The high-res map & low-res map are considered as independent obs from\n",
    "        a high-res telescope & a low-res telescope\n",
    "        \"\"\"    \n",
    "        if self.multi_:\n",
    "            aa = []\n",
    "            for i in g_gssmap:\n",
    "                newmap = x[0] * g_gssmap[i] * g_orimap[i] ** x[1] + g_orimap[i]\n",
    "                a = st.ansari(newmap,  g_orimap[i])\n",
    "                aa.append( a )\n",
    "        else:\n",
    "            newmap = x[0] * g_gssmap * g_orimap ** x[1] + g_orimap\n",
    "            aa = st.ansari( newmap, g_orimap )\n",
    "        return aa\n",
    "    \n",
    "\n",
    "    def EStest( self, x ):\n",
    "        r\"\"\"\n",
    "        Uses the non-param epps_singleton_2samp test from Scipy\n",
    "        The high-res map & low-res map are considered as independent obs from\n",
    "        a high-res telescope & a low-res telescope\n",
    "        \"\"\"\n",
    "        if self.multi_:\n",
    "            ee = []\n",
    "            for i in g_gssmap:\n",
    "                newmap = x[0] * g_gssmap[i] * g_orimap[i] ** x[1] + g_orimap[i]\n",
    "                e = st.epps_singleton_2samp( newmap, g_orimap[i] )\n",
    "                ee.append( e )\n",
    "        else:\n",
    "            newmap = x[0] * g_gssmap * g_orimap ** x[1] + g_orimap\n",
    "            ee = st.epps_singleton_2samp( newmap, g_orimap )\n",
    "        return ee\n",
    "\n",
    "    \n",
    "    def KStest( self, x ):\n",
    "        r\"\"\"\n",
    "        Uses the non-param Kolmogorov-Smirnov test from Scipy\n",
    "        The high-res map & low-res map are considered as independent obs from\n",
    "        a high-res telescope & a low-res telescope\n",
    "        \"\"\"\n",
    "        if self.multi_:\n",
    "            kk = []\n",
    "            for i in g_gssmap:\n",
    "                newmap = x[0] * g_gssmap[i] * g_orimap[i] ** x[1] + g_orimap[i]\n",
    "                k = st.ks_2samp( newmap, g_orimap[i] )\n",
    "                kk.append( k )\n",
    "        else:\n",
    "            newmap = x[0] * g_gssmap * g_orimap ** x[1] + g_orimap\n",
    "            kk = st.ks_2samp( newmap, g_orimap )\n",
    "        return kk"
   ]
  },
  {
   "cell_type": "markdown",
   "id": "e3687947-56ed-4e8d-86c0-b7069a9bda24",
   "metadata": {},
   "source": [
    "## Set-up"
   ]
  },
  {
   "cell_type": "code",
   "execution_count": 2,
   "id": "b0fdd0c2-4461-43e5-85da-0e94cabca05d",
   "metadata": {
    "tags": []
   },
   "outputs": [],
   "source": [
    "import joblib\n",
    "import timeit\n",
    "\n",
    "def savedata( name, obj ):\n",
    "    tic=timeit.default_timer()\n",
    "    with open( name,'wb' ) as Gv:\n",
    "        joblib.dump( obj, Gv)\n",
    "    toc=timeit.default_timer()\n",
    "    print(toc - tic)\n",
    "    \n",
    "def loaddata( name ):\n",
    "    tic=timeit.default_timer()\n",
    "    with open( name,'rb' ) as Gv:\n",
    "        mydata = joblib.load( Gv)\n",
    "    toc=timeit.default_timer()\n",
    "    print(toc - tic)\n",
    "    return mydata\n",
    "\n",
    "def load_Gfree_fitmap():\n",
    "    Gfree_FoV2_fitmap = loaddata('Gfree_44_23_FoV2_fitmap.db')\n",
    "    Gfree_FoV4_fitmap = loaddata('Gfree_44_23_FoV4_fitmap.db')\n",
    "    return Gfree_FoV4_fitmap, Gfree_FoV2_fitmap\n",
    "    \n",
    "def load_Gsync_fitmap():\n",
    "    Gsync_FoV2_fitmap = loaddata('Gsync_44_23_FoV2_fitmap.db')\n",
    "    Gsync_FoV4_fitmap = loaddata('Gsync_44_23_FoV4_fitmap.db')\n",
    "    return Gsync_FoV4_fitmap, Gsync_FoV2_fitmap\n",
    "\n",
    "def load_Gfree_simmap():\n",
    "    Fov4patch_map = loaddata('Gfree_44_23_FoV4_simmap.db')\n",
    "    Fov4patch_gss = loaddata('Gfree_44_23_FoV4_simgss.db')\n",
    "    Fov2patch_map = loaddata('Gfree_44_23_FoV2_simmap.db')\n",
    "    Fov2patch_gss = loaddata('Gfree_44_23_FoV2_simgss.db')\n",
    "    return Fov4patch_map, Fov4patch_gss, Fov2patch_map, Fov2patch_gss\n",
    "\n",
    "def load_Gsync_simmap():\n",
    "    Fov4patch_map = loaddata('Gsync_44_23_FoV4_simmap.db')\n",
    "    Fov4patch_gss = loaddata('Gsync_44_23_FoV4_simgss.db')\n",
    "    Fov4patch_id = loaddata('Gsync_44_23_FoV4_simid.db')\n",
    "    Fov2patch_map = loaddata('Gsync_44_23_FoV2_simmap.db')\n",
    "    Fov2patch_gss = loaddata('Gsync_44_23_FoV2_simgss.db')\n",
    "    Fov2patch_id = loaddata('Gsync_44_23_FoV2_simid.db')\n",
    "    return Fov4patch_map, Fov4patch_gss, Fov4patch_id, Fov2patch_map, Fov2patch_gss, Fov2patch_id"
   ]
  },
  {
   "cell_type": "code",
   "execution_count": 3,
   "id": "27cf4d2b-fd75-46e3-97c7-72ccc3280f74",
   "metadata": {
    "tags": []
   },
   "outputs": [],
   "source": [
    "import pickle\n",
    "import timeit\n",
    "from MCMC import MCMC\n",
    "%matplotlib inline"
   ]
  },
  {
   "cell_type": "code",
   "execution_count": 4,
   "id": "7d0ba4e8-9848-4ac7-8d9a-a3c6e4148d71",
   "metadata": {
    "tags": []
   },
   "outputs": [
    {
     "name": "stderr",
     "output_type": "stream",
     "text": [
      "\n",
      "WARNING: version mismatch between CFITSIO header (v4.000999999999999) and linked library (v4.01).\n",
      "\n",
      "\n",
      "WARNING: version mismatch between CFITSIO header (v4.000999999999999) and linked library (v4.01).\n",
      "\n",
      "\n",
      "WARNING: version mismatch between CFITSIO header (v4.000999999999999) and linked library (v4.01).\n",
      "\n"
     ]
    }
   ],
   "source": [
    "from GalacticDev import GalacticDev"
   ]
  },
  {
   "cell_type": "code",
   "execution_count": 6,
   "id": "5729ccfa-e163-4a1b-813b-dbacee654a58",
   "metadata": {
    "tags": []
   },
   "outputs": [
    {
     "name": "stderr",
     "output_type": "stream",
     "text": [
      "2022-08-13 13:29:17,127 : createlog : INFO : Log Header >> Action Time : Fuction or method: level : Message\n",
      "2022-08-13 13:29:17,127 : createlog : INFO : Log standard output streaming is False\n",
      "2022-08-13 13:29:17,128 : createlog : INFO : GSim_Gfree_Default_True_08_13_2022_132917.log log file is created\n",
      "2022-08-13 13:29:17,128 : createlog : INFO : Log is created by cxshan\n",
      "2022-08-13 13:29:17,129 : createlog : INFO : Log level is debug\n",
      "2022-08-13 13:29:17,130 : __init__ : INFO :  ⬇⬇⬇⬇⬇⬇⬇⬇⬇⬇⬇⬇⬇⬇⬇⬇⬇⬇⬇⬇ \n",
      "2022-08-13 13:29:17,131 : __init__ : INFO :  Galactic Gfree simulation is initializing! \n",
      "2022-08-13 13:29:17,131 : __init__ : WARNING :  sigma_tem default unit is [arcmin]! \n",
      "2022-08-13 13:29:17,132 : _set_comp : INFO : compID is galactic/freefree, name is Galactic free-free\n",
      "2022-08-13 13:29:17,132 : _set_default_io : INFO : Default IO is set. Output dir is /home/cxshan/data/fg21sim+/GalacticSimData/, clobber is True.\n",
      "2022-08-13 13:29:17,133 : _set_default_params : INFO :  Default settings are used! \n",
      "2022-08-13 13:29:17,133 : set_alpha : INFO :  alpha is set as 0.01019949 \n",
      "2022-08-13 13:29:17,134 : set_beta : INFO :  beta is set as 0.97270131 \n",
      "2022-08-13 13:29:17,134 : set_gamma : INFO :  gamma is set as -2.42875121 \n",
      "2022-08-13 13:29:17,135 : _set_up_params : INFO :  The params storage is setup! \n",
      "2022-08-13 13:29:17,136 : __init__ : INFO :  Gfree alpha is initialized as 0.01019949 \n",
      "2022-08-13 13:29:17,136 : __init__ : INFO :  Gfree beta is initialized as 0.97270131 \n",
      "2022-08-13 13:29:17,137 : __init__ : INFO :  Gfree gamma is initialized as -2.42875121 \n",
      "2022-08-13 13:29:17,138 : __init__ : INFO :  Gfree sigma_tem is initialized as 6 [arcmin] \n",
      "2022-08-13 13:29:17,146 : show_g_coord : INFO : The center of the simulation in Galactic Coordinate is: <SkyCoord (Galactic): (l, b) in deg\n",
      "    (211.54730168, -61.56458726)>.\n",
      "2022-08-13 13:29:17,147 : _set_skypatch_grid : INFO : Skypatch grid is all set!\n",
      "2022-08-13 13:29:17,148 : __init__ : INFO :  Nside is set to 32768 \n",
      "2022-08-13 13:29:17,149 : _set_healpix_grid : INFO : Healpix grid is all set!\n",
      "2022-08-13 13:29:17,149 : resolution : INFO :  Nside 32768 have a pixe size of 6.441537022157636 arcsec \n",
      "2022-08-13 13:29:17,150 : _set_fitting_grid : INFO : Fitting grid is all set!\n",
      "WARNING: AstropyDeprecationWarning: \"verbose\" was deprecated in version 1.15.0 and will be removed in a future version.  [Ut.io]\n",
      "2022-08-13 13:29:17,298 : loadmap : INFO : Input map is loaded from /mnt/ddnfs/data_users/cxshan/radiodata/GalacticData/gfree/gfree_120.0.fits on sgi server w/ nside=1024 in RING order\n",
      "2022-08-13 13:29:17,308 : loadmap : INFO : Input map contains NaN pixels, filtering the input map. \n",
      "2022-08-13 13:29:17,422 : loadmap : INFO : Input map is nan masked\n",
      "2022-08-13 13:29:17,453 : fillmap : INFO : Nan-masked map is filled w/ 0\n",
      "2022-08-13 13:29:17,455 : loadmap : INFO :  Input spectral index map is not supported for type = Gfree! \n",
      "2022-08-13 13:29:17,456 : __init__ : INFO : No input maps are given, auto loading input map.\n",
      "2022-08-13 13:29:17,456 : __init__ : INFO :  alm & cl are set to None & None \n",
      "2022-08-13 13:29:17,457 : __init__ : INFO :  Cl fitting using lmin=None, lmax=None. \n",
      "2022-08-13 13:29:17,458 : __init__ : INFO : Freqs list is not offered, generated default freq list.\n",
      "2022-08-13 13:29:17,458 : __init__ : INFO :  Galactic Gfree simulation is initialized! \n",
      "2022-08-13 13:29:17,459 : __init__ : INFO :  ⬆⬆⬆⬆⬆⬆⬆⬆⬆⬆⬆⬆⬆⬆⬆⬆⬆⬆⬆⬆ \n"
     ]
    },
    {
     "name": "stdout",
     "output_type": "stream",
     "text": [
      " Please update the healpix maps when you need to. \n"
     ]
    }
   ],
   "source": [
    "Sfov4 = GalacticDev( comp='Gfree', nside=32768, grfpatch=False, extra_large_mode=True, center = (44,-23), fov = ( 4, 4 ), sim_pixel = 2, default=True )"
   ]
  },
  {
   "cell_type": "code",
   "execution_count": 7,
   "id": "ab490af1-2d61-4671-ab90-04ddb1b51ea7",
   "metadata": {
    "tags": []
   },
   "outputs": [
    {
     "name": "stderr",
     "output_type": "stream",
     "text": [
      "2022-08-13 13:29:43,986 : createlog : INFO : Log Header >> Action Time : Fuction or method: level : Message\n",
      "2022-08-13 13:29:43,986 : createlog : INFO : Log standard output streaming is False\n",
      "2022-08-13 13:29:43,987 : createlog : INFO : GSim_Gfree_Default_True_08_13_2022_132943.log log file is created\n",
      "2022-08-13 13:29:43,987 : createlog : INFO : Log is created by cxshan\n",
      "2022-08-13 13:29:43,988 : createlog : INFO : Log level is debug\n",
      "2022-08-13 13:29:43,989 : __init__ : INFO :  ⬇⬇⬇⬇⬇⬇⬇⬇⬇⬇⬇⬇⬇⬇⬇⬇⬇⬇⬇⬇ \n",
      "2022-08-13 13:29:43,989 : __init__ : INFO :  Galactic Gfree simulation is initializing! \n",
      "2022-08-13 13:29:43,990 : __init__ : WARNING :  sigma_tem default unit is [arcmin]! \n",
      "2022-08-13 13:29:43,990 : _set_comp : INFO : compID is galactic/freefree, name is Galactic free-free\n",
      "2022-08-13 13:29:43,991 : _set_default_io : INFO : Default IO is set. Output dir is /home/cxshan/data/fg21sim+/GalacticSimData/, clobber is True.\n",
      "2022-08-13 13:29:43,992 : _set_default_params : INFO :  Default settings are used! \n",
      "2022-08-13 13:29:43,992 : set_alpha : INFO :  alpha is set as 0.01019949 \n",
      "2022-08-13 13:29:43,993 : set_beta : INFO :  beta is set as 0.97270131 \n",
      "2022-08-13 13:29:43,993 : set_gamma : INFO :  gamma is set as -2.42875121 \n",
      "2022-08-13 13:29:43,994 : _set_up_params : INFO :  The params storage is setup! \n",
      "2022-08-13 13:29:43,994 : __init__ : INFO :  Gfree alpha is initialized as 0.01019949 \n",
      "2022-08-13 13:29:43,995 : __init__ : INFO :  Gfree beta is initialized as 0.97270131 \n",
      "2022-08-13 13:29:43,996 : __init__ : INFO :  Gfree gamma is initialized as -2.42875121 \n",
      "2022-08-13 13:29:43,996 : __init__ : INFO :  Gfree sigma_tem is initialized as 6 [arcmin] \n",
      "2022-08-13 13:29:44,005 : show_g_coord : INFO : The center of the simulation in Galactic Coordinate is: <SkyCoord (Galactic): (l, b) in deg\n",
      "    (211.54730168, -61.56458726)>.\n",
      "2022-08-13 13:29:44,006 : _set_skypatch_grid : INFO : Skypatch grid is all set!\n",
      "2022-08-13 13:29:44,006 : __init__ : INFO :  Nside is set to 32768 \n",
      "2022-08-13 13:29:44,007 : _set_healpix_grid : INFO : Healpix grid is all set!\n",
      "2022-08-13 13:29:44,008 : resolution : INFO :  Nside 32768 have a pixe size of 6.441537022157636 arcsec \n",
      "2022-08-13 13:29:44,009 : _set_fitting_grid : INFO : Fitting grid is all set!\n",
      "2022-08-13 13:29:44,149 : loadmap : INFO : Input map is loaded from /mnt/ddnfs/data_users/cxshan/radiodata/GalacticData/gfree/gfree_120.0.fits on sgi server w/ nside=1024 in RING order\n",
      "2022-08-13 13:29:44,156 : loadmap : INFO : Input map contains NaN pixels, filtering the input map. \n",
      "2022-08-13 13:29:44,271 : loadmap : INFO : Input map is nan masked\n",
      "2022-08-13 13:29:44,302 : fillmap : INFO : Nan-masked map is filled w/ 0\n",
      "2022-08-13 13:29:44,304 : loadmap : INFO :  Input spectral index map is not supported for type = Gfree! \n",
      "2022-08-13 13:29:44,304 : __init__ : INFO : No input maps are given, auto loading input map.\n",
      "2022-08-13 13:29:44,305 : __init__ : INFO :  alm & cl are set to None & None \n",
      "2022-08-13 13:29:44,305 : __init__ : INFO :  Cl fitting using lmin=None, lmax=None. \n",
      "2022-08-13 13:29:44,306 : __init__ : INFO : Freqs list is not offered, generated default freq list.\n",
      "2022-08-13 13:29:44,307 : __init__ : INFO :  Galactic Gfree simulation is initialized! \n",
      "2022-08-13 13:29:44,308 : __init__ : INFO :  ⬆⬆⬆⬆⬆⬆⬆⬆⬆⬆⬆⬆⬆⬆⬆⬆⬆⬆⬆⬆ \n"
     ]
    },
    {
     "name": "stdout",
     "output_type": "stream",
     "text": [
      " Please update the healpix maps when you need to. \n"
     ]
    }
   ],
   "source": [
    "Sfov2 = GalacticDev( comp='Gfree', nside=32768, grfpatch=False, extra_large_mode=True, center = (44,-23), fov = ( 2, 2 ), sim_pixel = 2, default=True )"
   ]
  },
  {
   "cell_type": "markdown",
   "id": "a2091ebc-79e3-41a0-8ea7-72e9bdababb9",
   "metadata": {},
   "source": [
    "### FoV2 fitting"
   ]
  },
  {
   "cell_type": "code",
   "execution_count": 8,
   "id": "6d579da6-c70e-4c52-9c8f-aafe3da19aef",
   "metadata": {
    "tags": []
   },
   "outputs": [],
   "source": [
    "F = Sfov2"
   ]
  },
  {
   "cell_type": "markdown",
   "id": "ea59e99d-b541-4949-b356-0e972a453d07",
   "metadata": {
    "jp-MarkdownHeadingCollapsed": true,
    "tags": []
   },
   "source": [
    "#### Load Data"
   ]
  },
  {
   "cell_type": "code",
   "execution_count": 8,
   "id": "96fd830f-c201-4919-a5d8-58771edff54e",
   "metadata": {
    "execution": {
     "iopub.execute_input": "2022-08-11T19:59:00.008360Z",
     "iopub.status.busy": "2022-08-11T19:59:00.008213Z",
     "iopub.status.idle": "2022-08-11T19:59:01.566066Z",
     "shell.execute_reply": "2022-08-11T19:59:01.565425Z",
     "shell.execute_reply.started": "2022-08-11T19:59:00.008344Z"
    },
    "tags": []
   },
   "outputs": [
    {
     "name": "stdout",
     "output_type": "stream",
     "text": [
      "0.20082212705165148\n",
      "0.8647110930178314\n"
     ]
    }
   ],
   "source": [
    "SF4, SF2 = load_Gfree_fitmap()"
   ]
  },
  {
   "cell_type": "code",
   "execution_count": 9,
   "id": "102487ea-b864-4932-99a7-4385d720422c",
   "metadata": {
    "execution": {
     "iopub.execute_input": "2022-08-11T19:59:01.567615Z",
     "iopub.status.busy": "2022-08-11T19:59:01.567332Z",
     "iopub.status.idle": "2022-08-11T19:59:01.588954Z",
     "shell.execute_reply": "2022-08-11T19:59:01.588159Z",
     "shell.execute_reply.started": "2022-08-11T19:59:01.567595Z"
    },
    "tags": []
   },
   "outputs": [],
   "source": [
    "g_gssmap = SF2['gss'].flatten()\n",
    "g_gssmap = F.whiten(g_gssmap)\n",
    "g_gssmap = g_gssmap.astype(np.float32)\n",
    "g_orimap = SF2['ori'].flatten()\n",
    "g_orimap = g_orimap.astype(np.float32)"
   ]
  },
  {
   "cell_type": "code",
   "execution_count": 10,
   "id": "e9d19970-fe4b-42ef-8683-c81886b299a6",
   "metadata": {
    "execution": {
     "iopub.execute_input": "2022-08-11T19:59:01.590080Z",
     "iopub.status.busy": "2022-08-11T19:59:01.589830Z",
     "iopub.status.idle": "2022-08-11T19:59:01.987393Z",
     "shell.execute_reply": "2022-08-11T19:59:01.986909Z",
     "shell.execute_reply.started": "2022-08-11T19:59:01.590058Z"
    },
    "tags": []
   },
   "outputs": [
    {
     "data": {
      "text/plain": [
       "-9.930469e-09"
      ]
     },
     "execution_count": 10,
     "metadata": {},
     "output_type": "execute_result"
    }
   ],
   "source": [
    "np.mean(g_gssmap)"
   ]
  },
  {
   "cell_type": "code",
   "execution_count": 11,
   "id": "8f5d5437-efe5-4f5e-902c-772384a53bbb",
   "metadata": {
    "execution": {
     "iopub.execute_input": "2022-08-11T19:59:02.810104Z",
     "iopub.status.busy": "2022-08-11T19:59:02.809868Z",
     "iopub.status.idle": "2022-08-11T19:59:02.815511Z",
     "shell.execute_reply": "2022-08-11T19:59:02.815004Z",
     "shell.execute_reply.started": "2022-08-11T19:59:02.810079Z"
    },
    "tags": []
   },
   "outputs": [
    {
     "data": {
      "text/plain": [
       "False"
      ]
     },
     "execution_count": 11,
     "metadata": {},
     "output_type": "execute_result"
    }
   ],
   "source": [
    "F.checknan(g_gssmap)"
   ]
  },
  {
   "cell_type": "code",
   "execution_count": 12,
   "id": "a05ecb58-53a8-4a5f-914e-a881832f9d52",
   "metadata": {
    "execution": {
     "iopub.execute_input": "2022-08-11T19:59:02.816687Z",
     "iopub.status.busy": "2022-08-11T19:59:02.816471Z",
     "iopub.status.idle": "2022-08-11T19:59:03.186716Z",
     "shell.execute_reply": "2022-08-11T19:59:03.186175Z",
     "shell.execute_reply.started": "2022-08-11T19:59:02.816667Z"
    },
    "tags": []
   },
   "outputs": [
    {
     "data": {
      "text/plain": [
       "0.60499656"
      ]
     },
     "execution_count": 12,
     "metadata": {},
     "output_type": "execute_result"
    }
   ],
   "source": [
    "np.mean(g_orimap)"
   ]
  },
  {
   "cell_type": "code",
   "execution_count": 13,
   "id": "fc23a320-ac78-485e-9464-ed94cb9432ef",
   "metadata": {
    "execution": {
     "iopub.execute_input": "2022-08-11T19:59:04.058713Z",
     "iopub.status.busy": "2022-08-11T19:59:04.058292Z",
     "iopub.status.idle": "2022-08-11T19:59:04.063467Z",
     "shell.execute_reply": "2022-08-11T19:59:04.062966Z",
     "shell.execute_reply.started": "2022-08-11T19:59:04.058688Z"
    },
    "tags": []
   },
   "outputs": [
    {
     "data": {
      "text/plain": [
       "False"
      ]
     },
     "execution_count": 13,
     "metadata": {},
     "output_type": "execute_result"
    }
   ],
   "source": [
    "F.checknan(g_orimap)"
   ]
  },
  {
   "cell_type": "markdown",
   "id": "19ece789-fee8-453d-87fa-510b449b1646",
   "metadata": {},
   "source": [
    "#### Load Model"
   ]
  },
  {
   "cell_type": "code",
   "execution_count": 11,
   "id": "5b999fce-2ee3-460a-873e-005b0c1352ab",
   "metadata": {
    "tags": []
   },
   "outputs": [],
   "source": [
    "nc=20\n",
    "nsteps=20000\n",
    "nwalkers, ndim = 10, 2\n",
    "param_len, param_num = 1, 2\n",
    "np.random.seed(42)\n",
    "initial_params_map = np.array([0.0599, 0.782]) + 1e-3 * np.random.randn(nwalkers, ndim)\n",
    "param_lim_map = ( (0, 0.2), (0, 1) )\n",
    "\n",
    "IP = True\n",
    "namemap = F.type_ + '_map_fitting_' + str( F.nside ) + '_partial_' + str(F.fov[0]) + '_center_' + str(F.center[0]) + \\\n",
    "        str(F.center[1]) + '_nstep' + str( nsteps ) + '_IP_' + str(IP) + '_lim' + str(param_lim_map[0][0]) + '_' + str(param_lim_map[0][1])"
   ]
  },
  {
   "cell_type": "code",
   "execution_count": 12,
   "id": "aa6f1130-fcad-40ec-9a79-6f573684bf7a",
   "metadata": {
    "tags": []
   },
   "outputs": [],
   "source": [
    "fitting_map = FitfuncDev( size=F.fittingpatch.shape[0] )\n",
    "combine = fitting_map.combine"
   ]
  },
  {
   "cell_type": "code",
   "execution_count": null,
   "id": "969058de-5ae0-4d35-8c17-93d90792ea17",
   "metadata": {
    "execution": {
     "iopub.execute_input": "2022-08-11T19:59:09.139125Z",
     "iopub.status.busy": "2022-08-11T19:59:09.138740Z"
    },
    "scrolled": true,
    "tags": []
   },
   "outputs": [
    {
     "name": "stderr",
     "output_type": "stream",
     "text": [
      "2022-08-12 03:59:09,142 : createlog : INFO : Log Header >> Action Time : Fuction or method: level : Message\n",
      "2022-08-12 03:59:09,143 : createlog : INFO : Log standard output streaming is False\n",
      "2022-08-12 03:59:09,143 : createlog : INFO : MCMC_ndim_2_nwalkers_10_nsteps_20000_lim_True_multi_True_thread_num_20__08_12_2022_035909.log log file is created\n",
      "2022-08-12 03:59:09,143 : createlog : INFO : Log is created by cxshan\n",
      "2022-08-12 03:59:09,144 : createlog : INFO : Log level is debug\n",
      "2022-08-12 03:59:09,144 : __init__ : INFO :  nwalkers is initialized as 10. \n",
      "2022-08-12 03:59:09,144 : __init__ : INFO :  nsteps is initialized as 20000. \n",
      "2022-08-12 03:59:09,145 : __init__ : INFO :  ndim of the Param space is initialized as 2. \n",
      "2022-08-12 03:59:09,145 : __init__ : INFO :  2 parmas of 1 dimension w/ value limit of ((0, 0.2), (0, 1)) is initialized. \n",
      "2022-08-12 03:59:09,146 : __init__ : INFO : Input initial params are:\n",
      " [[0.06039671 0.78186174]\n",
      " [0.06054769 0.78352303]\n",
      " [0.05966585 0.78176586]\n",
      " [0.06147921 0.78276743]\n",
      " [0.05943053 0.78254256]\n",
      " [0.05943658 0.78153427]\n",
      " [0.06014196 0.78008672]\n",
      " [0.05817508 0.78143771]\n",
      " [0.05888717 0.78231425]\n",
      " [0.05899198 0.7805877 ]]\n",
      "2022-08-12 03:59:09,146 : run_MCMC : INFO :  Multi_threading flag is on, calls the MCMC sampler w/ Pool Parallelization.\n",
      "2022-08-12 03:59:09,147 : cpu : INFO : Number of CPUs in the system: 72\n",
      "2022-08-12 03:59:09,147 : cpu : INFO : Number of CPUs in the system: 72\n",
      "2022-08-12 03:59:09,148 : Pool_MCMC : INFO : Request 20 threads, which confines within total (72) cpu resources.\n",
      "2022-08-12 03:59:09,276 : Pool_MCMC : INFO : Starting the MCMC sampling progress.\n",
      "2022-08-12 03:59:09,278 : initial : INFO :  Initialize the parameters.\n",
      "2022-08-12 03:59:09,278 : initial : INFO :  Using user input parameters, passing the initial params.\n",
      "2022-08-12 03:59:09,280 : initial : INFO :  Initialization is done, initial params are:\n",
      " [[0.06039671 0.78186174]\n",
      " [0.06054769 0.78352303]\n",
      " [0.05966585 0.78176586]\n",
      " [0.06147921 0.78276743]\n",
      " [0.05943053 0.78254256]\n",
      " [0.05943658 0.78153427]\n",
      " [0.06014196 0.78008672]\n",
      " [0.05817508 0.78143771]\n",
      " [0.05888717 0.78231425]\n",
      " [0.05899198 0.7805877 ]]\n",
      " 96%|█████████▌| 19248/20000 [1:24:00<03:08,  3.99it/s]"
     ]
    }
   ],
   "source": [
    "#Mapsampler = MCMC(nwalkers, nsteps, ndim, param_num, param_len, param_lim_map, initial_params_map, lim_=True, multi_=True, thread_num=nc, param_names=['alpha','beta'], vars_list=[combine])\n",
    "#Mapsampler.run_MCMC()"
   ]
  },
  {
   "cell_type": "code",
   "execution_count": 13,
   "id": "55439c13-6588-4f20-b701-ea9f2ae76229",
   "metadata": {},
   "outputs": [
    {
     "name": "stdout",
     "output_type": "stream",
     "text": [
      "0.008810674771666527\n"
     ]
    }
   ],
   "source": [
    "LMapsampler = loaddata('Sky_44_23/'+namemap+'.db')"
   ]
  },
  {
   "cell_type": "code",
   "execution_count": 49,
   "id": "4df341ef-7f44-4c33-b982-34240ca48291",
   "metadata": {
    "tags": []
   },
   "outputs": [
    {
     "name": "stdout",
     "output_type": "stream",
     "text": [
      "0.004061939488443293 0.27615600152130587\n",
      "Removed no burn in\n"
     ]
    },
    {
     "data": {
      "image/png": "[encoded data removed]",
      "text/plain": [
       "<Figure size 432x432 with 3 Axes>"
      ]
     },
     "metadata": {
      "needs_background": "light"
     },
     "output_type": "display_data"
    }
   ],
   "source": [
    "LMapsampler.param_chain( 100, 10 )\n",
    "Mapcoeff = LMapsampler.param_fit_result()\n",
    "alpha_result = Mapcoeff[0]\n",
    "alpha = Mapcoeff[0][1]\n",
    "beta_result = Mapcoeff[1]\n",
    "beta = Mapcoeff[1][1]\n",
    "print( alpha, beta)\n",
    "LMapsampler.param_result_plot( smooth=True, legend=\"Result\" )"
   ]
  },
  {
   "cell_type": "code",
   "execution_count": null,
   "id": "db5918cb-2a7b-4b48-81b7-f5b1cdbdb53e",
   "metadata": {
    "tags": []
   },
   "outputs": [],
   "source": [
    "#namemap"
   ]
  },
  {
   "cell_type": "code",
   "execution_count": null,
   "id": "ea4bc75e-8903-4824-a091-0ac87dbef06a",
   "metadata": {
    "tags": []
   },
   "outputs": [],
   "source": [
    "#savedata( namemap+'.db', Mapsampler )"
   ]
  },
  {
   "cell_type": "markdown",
   "id": "11d73329-7830-47dc-86ff-153af06474f1",
   "metadata": {},
   "source": [
    "### FoV4 fitting"
   ]
  },
  {
   "cell_type": "code",
   "execution_count": 16,
   "id": "f1c71b8f-d96b-456e-acb5-316d25197a3d",
   "metadata": {
    "tags": []
   },
   "outputs": [],
   "source": [
    "FF = Sfov4"
   ]
  },
  {
   "cell_type": "markdown",
   "id": "98e70ed5-bea1-42a9-a220-a0d2f1e17998",
   "metadata": {
    "jp-MarkdownHeadingCollapsed": true,
    "tags": []
   },
   "source": [
    "#### Load Data"
   ]
  },
  {
   "cell_type": "code",
   "execution_count": null,
   "id": "6f16c564-3af6-4c96-b3ac-e3a375985420",
   "metadata": {
    "tags": []
   },
   "outputs": [],
   "source": [
    "g_gssmap = SF4['gss'].flatten()\n",
    "g_gssmap = F.whiten(g_gssmap)\n",
    "g_gssmap = g_gssmap.astype(np.float32)\n",
    "g_orimap = SF4['ori'].flatten()\n",
    "g_orimap = g_orimap.astype(np.float32)"
   ]
  },
  {
   "cell_type": "code",
   "execution_count": null,
   "id": "1e53a642-e974-4397-a731-f59a386e6172",
   "metadata": {
    "tags": []
   },
   "outputs": [],
   "source": [
    "np.mean(g_gssmap)"
   ]
  },
  {
   "cell_type": "code",
   "execution_count": null,
   "id": "5914347e-2604-48b8-b299-cbb92556fa16",
   "metadata": {
    "tags": []
   },
   "outputs": [],
   "source": [
    "F.checknan(g_gssmap)"
   ]
  },
  {
   "cell_type": "code",
   "execution_count": null,
   "id": "1be2b2b3-9899-473f-8ee8-2a734af39089",
   "metadata": {
    "tags": []
   },
   "outputs": [],
   "source": [
    "np.mean(g_orimap)"
   ]
  },
  {
   "cell_type": "code",
   "execution_count": null,
   "id": "71ed0e73-e0cc-493e-8b72-fc5e91aaadb3",
   "metadata": {
    "tags": []
   },
   "outputs": [],
   "source": [
    "F.checknan(g_orimap)"
   ]
  },
  {
   "cell_type": "markdown",
   "id": "2ec56ef3-44ab-4b07-9898-3e5a3f48c44c",
   "metadata": {},
   "source": [
    "#### Load Model"
   ]
  },
  {
   "cell_type": "code",
   "execution_count": 18,
   "id": "fb25668a-d456-49e6-be61-ed9f26b21acd",
   "metadata": {
    "tags": []
   },
   "outputs": [],
   "source": [
    "nc=30\n",
    "nsteps=15000\n",
    "nwalkers, ndim = 10, 2\n",
    "param_len, param_num = 1, 2\n",
    "np.random.seed(42)\n",
    "initial_params_map = np.array([0.0599, 0.782]) + 1e-3 * np.random.randn(nwalkers, ndim)\n",
    "param_lim_map = ( (0, 0.2), (0, 1) )\n",
    "\n",
    "IP = True\n",
    "namemap = FF.type_ + '_map_fitting_' + str( FF.nside ) + '_partial_' + str(FF.fov[0]) + '_center_' + str(FF.center[0]) + \\\n",
    "        str(FF.center[1]) + '_nstep' + str( nsteps ) + '_IP_' + str(IP) + '_lim' + str(param_lim_map[0][0]) + '_' + str(param_lim_map[0][1])"
   ]
  },
  {
   "cell_type": "code",
   "execution_count": 19,
   "id": "5a04ea97-3499-402a-8383-afb84b20432c",
   "metadata": {
    "tags": []
   },
   "outputs": [],
   "source": [
    "fitting_map = FitfuncDev( size=FF.fittingpatch.shape[0] )\n",
    "combine = fitting_map.combine"
   ]
  },
  {
   "cell_type": "code",
   "execution_count": 20,
   "id": "6c799538-850a-4006-b9fb-b9559d902c0d",
   "metadata": {
    "scrolled": true,
    "tags": []
   },
   "outputs": [],
   "source": [
    "#FFMapsampler = MCMC(nwalkers, nsteps, ndim, param_num, param_len, param_lim_map, initial_params_map, lim_=True, multi_=True, thread_num=nc, param_names=['alpha','beta'], vars_list=[combine])\n",
    "#FFMapsampler.run_MCMC()"
   ]
  },
  {
   "cell_type": "code",
   "execution_count": 21,
   "id": "87f35951-e933-49b2-90c8-39080fc774a4",
   "metadata": {},
   "outputs": [
    {
     "name": "stdout",
     "output_type": "stream",
     "text": [
      "0.010110680013895035\n"
     ]
    }
   ],
   "source": [
    "LFFMapsampler = loaddata('Sky_44_23/'+namemap+'.db')"
   ]
  },
  {
   "cell_type": "code",
   "execution_count": 48,
   "id": "46d3e57d-0063-4ade-87ae-953588556d42",
   "metadata": {
    "tags": []
   },
   "outputs": [
    {
     "name": "stdout",
     "output_type": "stream",
     "text": [
      "0.028225957060665583 0.5723354608928948\n",
      "Removed no burn in\n"
     ]
    },
    {
     "data": {
      "image/png": "[encoded data removed]",
      "text/plain": [
       "<Figure size 432x432 with 3 Axes>"
      ]
     },
     "metadata": {
      "needs_background": "light"
     },
     "output_type": "display_data"
    }
   ],
   "source": [
    "LFFMapsampler.param_chain( 1000, 700 )\n",
    "FFMapcoeff = LFFMapsampler.param_fit_result()\n",
    "alpha_result = FFMapcoeff[0]\n",
    "alpha = FFMapcoeff[0][1]\n",
    "beta_result = FFMapcoeff[1]\n",
    "beta = FFMapcoeff[1][1]\n",
    "print( alpha, beta)\n",
    "LFFMapsampler.param_result_plot( smooth=False, legend=\"Result\" )"
   ]
  },
  {
   "cell_type": "code",
   "execution_count": 47,
   "id": "74e5ac41-a04a-4f38-ac2c-3210a2aab4a0",
   "metadata": {
    "tags": []
   },
   "outputs": [
    {
     "data": {
      "image/png": "[encoded data removed]",
      "text/plain": [
       "<Figure size 720x504 with 2 Axes>"
      ]
     },
     "metadata": {
      "needs_background": "light"
     },
     "output_type": "display_data"
    }
   ],
   "source": [
    "LFFMapsampler.plot_density()"
   ]
  },
  {
   "cell_type": "code",
   "execution_count": 25,
   "id": "4a42e774-dd7f-40a9-a3d8-bc91f21a68c4",
   "metadata": {
    "tags": []
   },
   "outputs": [],
   "source": [
    "#namemap"
   ]
  },
  {
   "cell_type": "code",
   "execution_count": 26,
   "id": "f9091411-2eed-4520-a489-1e92c2e02518",
   "metadata": {
    "tags": []
   },
   "outputs": [],
   "source": [
    "#savedata( namemap+'.db', FFMapsampler )"
   ]
  },
  {
   "cell_type": "code",
   "execution_count": null,
   "id": "5017b961-edc3-4683-a923-b9558122e07c",
   "metadata": {},
   "outputs": [],
   "source": []
  }
 ],
 "metadata": {
  "kernelspec": {
   "display_name": "Python 3 (ipykernel)",
   "language": "python",
   "name": "python3"
  },
  "language_info": {
   "codemirror_mode": {
    "name": "ipython",
    "version": 3
   },
   "file_extension": ".py",
   "mimetype": "text/x-python",
   "name": "python",
   "nbconvert_exporter": "python",
   "pygments_lexer": "ipython3",
   "version": "3.7.13"
  }
 },
 "nbformat": 4,
 "nbformat_minor": 5
}
